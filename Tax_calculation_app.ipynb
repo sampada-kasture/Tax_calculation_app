{
  "nbformat": 4,
  "nbformat_minor": 0,
  "metadata": {
    "colab": {
      "provenance": []
    },
    "kernelspec": {
      "name": "python3",
      "display_name": "Python 3"
    },
    "language_info": {
      "name": "python"
    }
  },
  "cells": [
    {
      "cell_type": "markdown",
      "source": [
        "# Python Task: Income Tax Calculator (Old vs New Regime with Deductions)\n",
        "Objective\n",
        " Build a Python program that calculates tax liability for both Old and New tax regimes based on the user's annual income. The Old Regime should allow deductions, while the New Regime should not. Finally, display which regime is more beneficial.\n",
        "\n",
        "# Tax Rules\n",
        "Old Regime Slabs\n",
        "- 0 – 2,50,000 → 0%\n",
        "\n",
        "\n",
        "- 2,50,001 – 5,00,000 → 5%\n",
        "\n",
        "\n",
        "- 5,00,001 – 10,00,000 → 20%\n",
        "\n",
        "\n",
        "- Above 10,00,000 → 30%\n",
        " (Deductions allowed, for example 80C, 80D, Standard Deduction)\n",
        "\n",
        "\n",
        "New Regime Slabs\n",
        "- 0 – 2,50,000 → 0%\n",
        "\n",
        "\n",
        "- 2,50,001 – 5,00,000 → 5%\n",
        "\n",
        "\n",
        "- 5,00,001 – 7,50,000 → 10%\n",
        "\n",
        "\n",
        "- 7,50,001 – 10,00,000 → 15%\n",
        "\n",
        "\n",
        "- 10,00,001 – 12,50,000 → 20%\n",
        "\n",
        "\n",
        "- 12,50,001 – 15,00,000 → 25%\n",
        "\n",
        "\n",
        "- Above 15,00,000 → 30%\n",
        " (No deductions allowed)\n",
        "\n",
        "\n",
        "\n",
        "# Requirements\n",
        "Inputs:\n",
        "\n",
        "\n",
        "- Annual Salary\n",
        "\n",
        "\n",
        "- Total deductions (HRA, PF, 80C, etc.) applicable only for Old Regime\n",
        "\n",
        "\n",
        "Process:\n",
        "\n",
        "\n",
        "- Calculate taxable income under Old Regime = Salary – Deductions\n",
        "\n",
        "\n",
        "- Apply slabs progressively for both regimes\n",
        "\n",
        "\n",
        "- Add 4% cess to total tax\n",
        "\n",
        "\n",
        "Outputs:\n",
        "\n",
        "\n",
        "- Old Regime Tax, Taxable Income, and Take-home salary\n",
        "\n",
        "\n",
        "- New Regime Tax and Take-home salary\n",
        "\n",
        "\n",
        "- Which regime is better with savings amount\n",
        "\n",
        "\n",
        "Bonus Features:\n",
        "\n",
        "\n",
        "- Show detailed slab-wise breakdown for both regimes\n",
        "\n",
        "\n",
        "- Validate inputs (negative values not allowed)\n",
        "\n",
        "\n",
        "-\n",
        "Allow multiple calculations in one run\n",
        "\n",
        "\n",
        "\n",
        "Example Run\n",
        " Enter your Annual Salary: 1200000\n",
        " Enter total deductions (Old Regime): 150000\n",
        "Old Regime:\n",
        " Taxable Income = 1050000\n",
        " Tax:\n",
        " 0-2.5L @ 0% = 0\n",
        " 2.5L-5L @ 5% = 12500\n",
        " 5L-10L @ 20% = 100000\n",
        " 10L-10.5L @ 30% = 15000\n",
        " Base Tax = 127500\n",
        " Cess (4%) = 5100\n",
        " Total Tax = 132600\n",
        " Take-home Salary = 1067400\n",
        "New Regime:\n",
        " Taxable Income = 1200000 (No deductions)\n",
        " Base Tax = 150000\n",
        " Cess (4%) = 6000\n",
        " Total Tax = 156000\n",
        " Take-home Salary = 1044000\n",
        "Better Option: Old Regime (Save 23400)\n",
        "\n",
        "## Author- Sampada Kasture\n",
        "\n"
      ],
      "metadata": {
        "id": "gMrufSi_PUIY"
      }
    },
    {
      "cell_type": "code",
      "source": [
        "while True:\n",
        "    try:\n",
        "        annual_salary = int(input(\"Enter annual salary: \"))\n",
        "        if annual_salary >= 0:\n",
        "            break\n",
        "        else:\n",
        "            print(\"Annual salary cannot be negative. Please enter a positive value.\")\n",
        "    except ValueError:\n",
        "        print(\"Invalid input. Please enter an integer.\")\n",
        "\n",
        "while True:\n",
        "    try:\n",
        "        deductions = int(input(\"Enter deductions: \"))\n",
        "        if deductions >= 0:\n",
        "            break\n",
        "        else:\n",
        "            print(\"Deductions cannot be negative. Please enter a positive value.\")\n",
        "    except ValueError:\n",
        "        print(\"Invalid input. Please enter an integer.\")\n",
        "\n",
        "taxable_income = annual_salary - deductions\n",
        "print(\"taxable income\", taxable_income)"
      ],
      "metadata": {
        "colab": {
          "base_uri": "https://localhost:8080/"
        },
        "id": "9E4J1eCl9tE-",
        "outputId": "932d1d51-72e7-45da-c4f5-18757819e9d5"
      },
      "execution_count": 166,
      "outputs": [
        {
          "output_type": "stream",
          "name": "stdout",
          "text": [
            "Enter annual salary: 1000\n",
            "Enter deductions: 90\n",
            "taxable income 910\n"
          ]
        }
      ]
    },
    {
      "cell_type": "code",
      "source": [
        "if taxable_income <= 250000:\n",
        "  tax_amount = taxable_income * 0\n",
        "  print(\"tax amount\", tax_amount)\n",
        "elif taxable_income <= 500000 and taxable_income > 250000:\n",
        "  tax_amount = taxable_income * 0.05\n",
        "  print(\"tax amount\", tax_amount)\n",
        "elif taxable_income <= 1000000 and taxable_income > 500000:\n",
        "  tax_amount = taxable_income * 0.20\n",
        "  print(\"tax amount\", tax_amount)\n",
        "else :\n",
        "  tax_amount = taxable_income * 0.30\n",
        "  print(\"tax amount\", tax_amount)\n",
        "\n"
      ],
      "metadata": {
        "colab": {
          "base_uri": "https://localhost:8080/"
        },
        "id": "nPVsdlqy45DR",
        "outputId": "c8108a12-dace-410d-ea7b-969ceb411e15"
      },
      "execution_count": 167,
      "outputs": [
        {
          "output_type": "stream",
          "name": "stdout",
          "text": [
            "tax amount 0\n"
          ]
        }
      ]
    },
    {
      "cell_type": "code",
      "source": [
        "cess = tax_amount * 0.04\n",
        "total_tax_amount = tax_amount + cess\n",
        "print(\"total tax amount: \", total_tax_amount)"
      ],
      "metadata": {
        "colab": {
          "base_uri": "https://localhost:8080/"
        },
        "id": "LBEJP0DB8Vra",
        "outputId": "777479cf-e1a9-4b87-fd6b-d57676b8e2b4"
      },
      "execution_count": 168,
      "outputs": [
        {
          "output_type": "stream",
          "name": "stdout",
          "text": [
            "total tax amount:  0.0\n"
          ]
        }
      ]
    },
    {
      "cell_type": "code",
      "source": [
        "take_home_salary = annual_salary - total_tax_amount\n",
        "print(\"Take home salary: \", take_home_salary)"
      ],
      "metadata": {
        "colab": {
          "base_uri": "https://localhost:8080/"
        },
        "id": "O8zH0REQDHVr",
        "outputId": "93259c31-d9cf-4c8c-95e7-f74195c5c954"
      },
      "execution_count": 169,
      "outputs": [
        {
          "output_type": "stream",
          "name": "stdout",
          "text": [
            "Take home salary:  1000.0\n"
          ]
        }
      ]
    },
    {
      "cell_type": "markdown",
      "source": [
        "New Regime\n"
      ],
      "metadata": {
        "id": "TR9wulObEIhK"
      }
    },
    {
      "cell_type": "code",
      "source": [
        "if annual_salary <= 250000:\n",
        "  tax_amount = annual_salary * 0\n",
        "  print(\"tax amount\", tax_amount)\n",
        "elif annual_salary <= 500000 and annual_salary > 250000:\n",
        "  tax_amount = annual_salary * 0.05\n",
        "  print(\"tax amount\", tax_amount)\n",
        "elif annual_salary <= 750000 and annual_salary > 500000:\n",
        "  tax_amount = annual_salary * 0.10\n",
        "  print(\"tax amount\", tax_amount)\n",
        "elif annual_salary <= 1000000 and annual_salary > 750000:\n",
        "  tax_amount = annual_salary * 0.15\n",
        "  print(\"tax amount\", tax_amount)\n",
        "elif annual_salary <=1250000 and annual_salary > 1000000:\n",
        "  tax_amount = annual_salary * 0.20\n",
        "  print(\"tax amount\", tax_amount)\n",
        "else :\n",
        "  tax_amount = annual_salary * 0.30\n",
        "  print(\"tax amount\", tax_amount)\n"
      ],
      "metadata": {
        "colab": {
          "base_uri": "https://localhost:8080/"
        },
        "id": "EXP1tLOuDv2K",
        "outputId": "4561dae9-0ca4-4c53-f314-760ffe8106a5"
      },
      "execution_count": 170,
      "outputs": [
        {
          "output_type": "stream",
          "name": "stdout",
          "text": [
            "tax amount 0\n"
          ]
        }
      ]
    },
    {
      "cell_type": "code",
      "source": [
        "cess = tax_amount * 0.04\n",
        "total_tax_amount = tax_amount + cess\n",
        "print(\"total tax amount: \", total_tax_amount)"
      ],
      "metadata": {
        "colab": {
          "base_uri": "https://localhost:8080/"
        },
        "id": "-uwxyYEnHGgm",
        "outputId": "af1cee03-483f-46ba-b68f-5497865fc8d5"
      },
      "execution_count": 171,
      "outputs": [
        {
          "output_type": "stream",
          "name": "stdout",
          "text": [
            "total tax amount:  0.0\n"
          ]
        }
      ]
    },
    {
      "cell_type": "code",
      "source": [
        "new_take_home_salary = annual_salary - total_tax_amount\n",
        "print(\"New Take home salary: \", new_take_home_salary)"
      ],
      "metadata": {
        "colab": {
          "base_uri": "https://localhost:8080/"
        },
        "id": "dx-gkVfKHeQw",
        "outputId": "e4ac9d2a-3d6b-4cab-b099-9d0b2d305715"
      },
      "execution_count": 172,
      "outputs": [
        {
          "output_type": "stream",
          "name": "stdout",
          "text": [
            "New Take home salary:  1000.0\n"
          ]
        }
      ]
    },
    {
      "cell_type": "code",
      "source": [
        "if new_take_home_salary > take_home_salary:\n",
        " print(\"New Regime is better. Save(\",new_take_home_salary - take_home_salary,\")\")\n",
        "elif new_take_home_salary == take_home_salary:\n",
        "  print(\"Both are same\")\n",
        "else:\n",
        "  print(\"Old Regime is better. Save(\",take_home_salary - new_take_home_salary,\")\")\n"
      ],
      "metadata": {
        "colab": {
          "base_uri": "https://localhost:8080/"
        },
        "id": "nIv81lmnIHFE",
        "outputId": "6a8bafb8-23b0-4888-834b-e89dce32805f"
      },
      "execution_count": 173,
      "outputs": [
        {
          "output_type": "stream",
          "name": "stdout",
          "text": [
            "Both are same\n"
          ]
        }
      ]
    }
  ]
}